{
 "cells": [
  {
   "cell_type": "code",
   "execution_count": 1,
   "id": "9ef60919",
   "metadata": {},
   "outputs": [],
   "source": [
    "import torch\n",
    "import torch.nn as nn\n",
    "import torch.nn.functional as F\n",
    "import torch.optim as optim\n",
    "\n",
    "from torchvision import datasets\n",
    "from torchvision import transforms\n",
    "from torch.utils.data import Dataset, DataLoader"
   ]
  },
  {
   "cell_type": "code",
   "execution_count": 2,
   "id": "ed56ce23",
   "metadata": {},
   "outputs": [],
   "source": [
    "class MNISTModel(nn.Module):\n",
    "    def __init__(self):\n",
    "        super().__init__()\n",
    "        self.conv1 = nn.Conv2d(1, 32, 3, stride=2, padding=1)\n",
    "        self.fc1 = nn.Linear(32*14*14, 512)\n",
    "        self.fc2 = nn.Linear(512, 256)\n",
    "        self.fc3 = nn.Linear(256, 64)\n",
    "        self.fc4 = nn.Linear(64, 10)\n",
    "\n",
    "    def forward(self, x):\n",
    "        x = F.relu(self.conv1(x))\n",
    "        x = x.view(-1, 32*14*14)\n",
    "        x = F.relu(self.fc1(x))\n",
    "        x = F.relu(self.fc2(x))\n",
    "        x = F.relu(self.fc3(x))\n",
    "        x = self.fc4(x)\n",
    "        return x"
   ]
  },
  {
   "cell_type": "code",
   "execution_count": 3,
   "id": "4ee35e1e",
   "metadata": {},
   "outputs": [],
   "source": [
    "# create data transform, converts from PIL image to tensor\n",
    "# can add normalization options here\n",
    "transform = transforms.Compose([transforms.ToTensor()])\n",
    "\n",
    "# load the data\n",
    "train_data = datasets.MNIST('data', train=True, download=True, transform=transform)\n",
    "test_data = datasets.MNIST('data', train=False, download=True, transform=transform)\n",
    "\n",
    "# create a \"dataloader\" to generate batches\n",
    "batch_size = 500\n",
    "train_loader = DataLoader(train_data, batch_size=batch_size, shuffle=True)\n",
    "test_loader = DataLoader(test_data, batch_size=batch_size, shuffle=False)"
   ]
  },
  {
   "cell_type": "code",
   "execution_count": 4,
   "id": "b63b723b",
   "metadata": {},
   "outputs": [
    {
     "name": "stdout",
     "output_type": "stream",
     "text": [
      "epoch 0: loss=75.75027, accuracy=0.80605\n",
      "epoch 1: loss=20.93831, accuracy=0.94772\n",
      "epoch 2: loss=12.68884, accuracy=0.96815\n",
      "epoch 3: loss=9.13002, accuracy=0.97718\n",
      "epoch 4: loss=6.63744, accuracy=0.98363\n",
      "epoch 5: loss=5.17621, accuracy=0.98710\n",
      "epoch 6: loss=4.27787, accuracy=0.98920\n",
      "epoch 7: loss=3.31874, accuracy=0.99167\n",
      "epoch 8: loss=2.41796, accuracy=0.99423\n",
      "epoch 9: loss=1.78591, accuracy=0.99580\n"
     ]
    }
   ],
   "source": [
    "# instantiate the model\n",
    "model = MNISTModel()\n",
    "opt = optim.Adam(model.parameters(), lr=0.001)\n",
    "criterion = nn.CrossEntropyLoss()\n",
    "\n",
    "model.cuda()   # move the model to the gpu\n",
    "model.train()  # prepares the model for training\n",
    "\n",
    "epochs = 10\n",
    "\n",
    "for epoch in range(epochs):\n",
    "    epoch_loss = 0\n",
    "    epoch_correct = 0\n",
    "    epoch_count = 0\n",
    "    \n",
    "    for x, y in train_loader:\n",
    "        x = x.cuda()\n",
    "        y = y.cuda()\n",
    "\n",
    "        output = model(x)\n",
    "        loss = criterion(output, y)\n",
    "        opt.zero_grad()\n",
    "        loss.backward()\n",
    "        opt.step()\n",
    "        y_pred = torch.argmax(output, -1)\n",
    "        \n",
    "        epoch_loss += loss\n",
    "        epoch_correct += torch.eq(y, y_pred).float().sum()\n",
    "        epoch_count += len(x)\n",
    "    \n",
    "    epoch_acc = epoch_correct / epoch_count\n",
    "        \n",
    "    print(f'epoch {epoch}: loss={epoch_loss:.5f}, accuracy={epoch_acc:.5f}')\n"
   ]
  },
  {
   "cell_type": "code",
   "execution_count": 6,
   "id": "c718852e",
   "metadata": {},
   "outputs": [
    {
     "name": "stdout",
     "output_type": "stream",
     "text": [
      "test accuracy=0.98340\n"
     ]
    }
   ],
   "source": [
    "# evaluate\n",
    "test_correct = 0\n",
    "test_count = 0\n",
    "\n",
    "for x, y in test_loader:\n",
    "    x = x.cuda()\n",
    "    y = y.cuda()\n",
    "    \n",
    "    output = model(x)\n",
    "    loss = criterion(output, y)\n",
    "    y_pred = torch.argmax(output, -1)\n",
    "    \n",
    "    test_correct += torch.eq(y, y_pred).float().sum()\n",
    "    test_count += len(x)\n",
    "\n",
    "test_acc = test_correct / test_count\n",
    "print(f'test accuracy={test_acc:.5f}')"
   ]
  },
  {
   "cell_type": "code",
   "execution_count": null,
   "id": "5b6c3bcc",
   "metadata": {},
   "outputs": [],
   "source": []
  }
 ],
 "metadata": {
  "kernelspec": {
   "display_name": "Python 3 (ipykernel)",
   "language": "python",
   "name": "python3"
  },
  "language_info": {
   "codemirror_mode": {
    "name": "ipython",
    "version": 3
   },
   "file_extension": ".py",
   "mimetype": "text/x-python",
   "name": "python",
   "nbconvert_exporter": "python",
   "pygments_lexer": "ipython3",
   "version": "3.11.5"
  }
 },
 "nbformat": 4,
 "nbformat_minor": 5
}

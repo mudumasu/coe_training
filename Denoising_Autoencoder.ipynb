{
  "nbformat": 4,
  "nbformat_minor": 0,
  "metadata": {
    "colab": {
      "provenance": [],
      "include_colab_link": true
    },
    "kernelspec": {
      "name": "python3",
      "display_name": "Python 3"
    },
    "accelerator": "GPU"
  },
  "cells": [
    {
      "cell_type": "markdown",
      "metadata": {
        "id": "view-in-github",
        "colab_type": "text"
      },
      "source": [
        "<a href=\"https://colab.research.google.com/github/todnewman/coe_training/blob/master/Denoising_Autoencoder.ipynb\" target=\"_parent\"><img src=\"https://colab.research.google.com/assets/colab-badge.svg\" alt=\"Open In Colab\"/></a>"
      ]
    },
    {
      "cell_type": "markdown",
      "metadata": {
        "id": "J863s4Y2tn0U"
      },
      "source": [
        "# Denoising Demonstration using Autoencoder\n",
        "**Author**: W. Tod Newman\n",
        "\n",
        "**Updates**: New Release\n",
        "\n",
        "## Learning Objectives\n",
        "\n",
        "\n",
        "*   Understand how an autoencoder can be designed/constructed\n",
        "*   See the capability for denoising an image\n",
        "\n",
        "In this exercise we're using data from Fashion MNIST to provide more challenging images to work with."
      ]
    },
    {
      "cell_type": "code",
      "metadata": {
        "id": "OA49SeGXIKZp"
      },
      "source": [
        "from __future__ import absolute_import\n",
        "from __future__ import division\n",
        "from __future__ import print_function\n",
        "from tensorflow import keras\n",
        "from keras.layers import Activation, Dense, Input\n",
        "from keras.layers import Conv2D, Flatten\n",
        "from keras.layers import Reshape, Conv2DTranspose\n",
        "from keras.callbacks import EarlyStopping, Callback, ReduceLROnPlateau, ModelCheckpoint\n",
        "from keras.models import Model, load_model\n",
        "from keras import backend as K\n",
        "from keras.datasets import fashion_mnist\n",
        "import numpy as np\n",
        "import matplotlib.pyplot as plt\n",
        "from PIL import Image\n",
        "import tensorflow as tf"
      ],
      "execution_count": null,
      "outputs": []
    },
    {
      "cell_type": "markdown",
      "metadata": {
        "id": "63-Dgk-ZINqj"
      },
      "source": [
        "## Approach of this Module\n",
        "Trains a denoising autoencoder on Fashion MNIST dataset.\n",
        "* Denoising is one of the classic applications of autoencoders.\n",
        "The denoising process removes unwanted noise that corrupted the\n",
        "true signal.\n",
        "* Noise + Data ---> Denoising Autoencoder ---> Data\n",
        "Given a training dataset of corrupted data as input and\n",
        "true signal as output, a denoising autoencoder can recover the\n",
        "hidden structure to generate clean data.\n",
        "* This example has modular design. The encoder, decoder and autoencoder\n",
        "are 3 models that share weights. For example, after training the\n",
        "autoencoder, the encoder can be used to  generate latent vectors\n",
        "of input data for low-dim visualization like PCA or TSNE.\n"
      ]
    },
    {
      "cell_type": "markdown",
      "metadata": {
        "id": "HuYF1rXTvxnv"
      },
      "source": [
        "## First, set up Tensorflow Callbacks"
      ]
    },
    {
      "cell_type": "code",
      "metadata": {
        "id": "xkbHfQLN_RDI",
        "colab": {
          "base_uri": "https://localhost:8080/"
        },
        "outputId": "b4f91f49-552d-4da1-c1e5-b88ca8803b87"
      },
      "source": [
        "LR = ReduceLROnPlateau(monitor='val_loss', \n",
        "                        patience=2, \n",
        "                        verbose=1, \n",
        "                        factor=0.3, \n",
        "                        min_lr=0.00001)\n",
        "\n",
        "my_callbacks = [ModelCheckpoint('denoiser.hdf5', monitor='val_loss', save_best_only=True, save_freq=1),LR]\n"
      ],
      "execution_count": null,
      "outputs": [
        {
          "output_type": "stream",
          "name": "stdout",
          "text": [
            "WARNING:tensorflow:`period` argument is deprecated. Please use `save_freq` to specify the frequency in number of batches seen.\n"
          ]
        }
      ]
    },
    {
      "cell_type": "markdown",
      "metadata": {
        "id": "7me9RXqKv1sg"
      },
      "source": [
        "## Set up the Fashion MNIST Dataset"
      ]
    },
    {
      "cell_type": "code",
      "metadata": {
        "id": "qS1R223AuBjq",
        "colab": {
          "base_uri": "https://localhost:8080/"
        },
        "outputId": "a8ccf368-cb23-4685-9cc1-d0c654cf1514"
      },
      "source": [
        "# Fashion MNIST dataset\n",
        "\n",
        "(x_train, _), (x_test, _) = fashion_mnist.load_data()\n",
        "\n",
        "# Reshape to (X,28,28,1) and then scale to values between 0 and 1\n",
        "\n",
        "image_size = x_train.shape[1]\n",
        "x_train = np.reshape(x_train, [-1, image_size, image_size, 1])\n",
        "x_test = np.reshape(x_test, [-1, image_size, image_size, 1])\n",
        "x_train = x_train.astype('float32') / 255\n",
        "x_test = x_test.astype('float32') / 255\n",
        "\n",
        "# Generate corrupted Fashion MNIST images by adding noise with normal dist\n",
        "# centered at 0.5 and std=0.5\n",
        "\n",
        "noise = np.random.normal(loc=0.5, scale=0.5, size=x_train.shape)\n",
        "x_train_noisy = x_train + noise  # add normally distributed noise to x_train\n",
        "noise = np.random.normal(loc=0.5, scale=0.5, size=x_test.shape)\n",
        "x_test_noisy = x_test + noise # add normally distributed noise to x_test\n",
        "\n",
        "# Limit values to be between 0 and 1\n",
        "\n",
        "x_train_noisy = np.clip(x_train_noisy, 0., 1.)\n",
        "x_test_noisy = np.clip(x_test_noisy, 0., 1.)"
      ],
      "execution_count": null,
      "outputs": [
        {
          "output_type": "stream",
          "name": "stdout",
          "text": [
            "Downloading data from https://storage.googleapis.com/tensorflow/tf-keras-datasets/train-labels-idx1-ubyte.gz\n",
            "32768/29515 [=================================] - 0s 0us/step\n",
            "40960/29515 [=========================================] - 0s 0us/step\n",
            "Downloading data from https://storage.googleapis.com/tensorflow/tf-keras-datasets/train-images-idx3-ubyte.gz\n",
            "26427392/26421880 [==============================] - 0s 0us/step\n",
            "26435584/26421880 [==============================] - 0s 0us/step\n",
            "Downloading data from https://storage.googleapis.com/tensorflow/tf-keras-datasets/t10k-labels-idx1-ubyte.gz\n",
            "16384/5148 [===============================================================================================] - 0s 0us/step\n",
            "Downloading data from https://storage.googleapis.com/tensorflow/tf-keras-datasets/t10k-images-idx3-ubyte.gz\n",
            "4423680/4422102 [==============================] - 0s 0us/step\n",
            "4431872/4422102 [==============================] - 0s 0us/step\n"
          ]
        }
      ]
    },
    {
      "cell_type": "markdown",
      "metadata": {
        "id": "4ICm-hlXv8Dq"
      },
      "source": [
        "## Below we build the Encoder, Decoder, and the Autoencoder"
      ]
    },
    {
      "cell_type": "code",
      "metadata": {
        "colab": {
          "base_uri": "https://localhost:8080/"
        },
        "id": "odl_2GY-vekV",
        "outputId": "ca01d955-9471-434d-a3b7-73ac066a2b9b"
      },
      "source": [
        "# Basic parameters\n",
        "retrain = True\n",
        "np.random.seed(1337)\n",
        "input_shape = (image_size, image_size, 1)\n",
        "batch_size = 128\n",
        "kernel_size = 4\n",
        "latent_dim = 20 # dimension of the hidden layer\n",
        "\n",
        "# Encoder/Decoder number of CNN layers and filters per layer\n",
        "\n",
        "layer_filters = [40, 80]\n",
        "\n",
        "'''Build the Autoencoder Model'''\n",
        "\n",
        "#\n",
        "# Starting with the Encoder Model\n",
        "#\n",
        "\n",
        "inputs = Input(shape=input_shape, name='encoder_input')\n",
        "x = inputs\n",
        "\n",
        "# Stack of Conv2D blocks\n",
        "# Notes:\n",
        "# 1) Use Batch Normalization before ReLU on deep networks\n",
        "# 2) Use MaxPooling2D as alternative to strides>1\n",
        "# - faster but not as good as strides>1\n",
        "\n",
        "# FIRST: Two convolutional layers.\n",
        "\n",
        "for filters in layer_filters:\n",
        "    x = Conv2D(filters=filters,\n",
        "               kernel_size=kernel_size,\n",
        "               strides=2,\n",
        "               activation='relu',\n",
        "               padding='same')(x)\n",
        "\n",
        "# Shape info needed to build Decoder Model\n",
        "\n",
        "shape = K.int_shape(x) # return the shape of x as a tuple of integers\n",
        "\n",
        "# Flatten out the network.\n",
        "# Then one dense layer that will compress down to the latent dimension.\n",
        "\n",
        "x = Flatten()(x)\n",
        "latent = Dense(latent_dim, name='latent_vector')(x)\n",
        "\n",
        "# Instantiate Encoder Model\n",
        "\n",
        "encoder = Model(inputs, latent, name='encoder')\n",
        "encoder.summary()\n",
        "# ---------------------------------------------------------------------------\n",
        "\n",
        "#\n",
        "# Build the Decoder Model\n",
        "# Inputs to the decoder are of the size of the latent dimension.\n",
        "# Dense layer uses the shape parameter from the inputs to the encoder.\n",
        "#\n",
        "\n",
        "latent_inputs = Input(shape=(latent_dim,), name='decoder_input')\n",
        "x = Dense(shape[1] * shape[2] * shape[3])(latent_inputs)\n",
        "x = Reshape((shape[1], shape[2], shape[3]))(x)\n",
        "\n",
        "# Stack of Transposed Conv2D blocks\n",
        "# Notes:\n",
        "# 1) Use Batch Normalization before ReLU on deep networks\n",
        "# 2) Use UpSampling2D as alternative to strides>1\n",
        "# - faster but not as good as strides>1\n",
        "\n",
        "for filters in layer_filters[::-1]:\n",
        "    x = Conv2DTranspose(filters=filters,\n",
        "                        kernel_size=kernel_size,\n",
        "                        strides=2,\n",
        "                        activation='relu',\n",
        "                        padding='same')(x)\n",
        "\n",
        "x = Conv2DTranspose(filters=1,\n",
        "                    kernel_size=kernel_size,\n",
        "                    padding='same')(x)\n",
        "\n",
        "outputs = Activation('sigmoid', name='decoder_output')(x)\n",
        "\n",
        "# Instantiate Decoder Model\n",
        "\n",
        "decoder = Model(latent_inputs, outputs, name='decoder')\n",
        "decoder.summary()\n",
        "# ---------------------------------------------------------------------------\n",
        "\n",
        "#\n",
        "# Instantiate Autoencoder Model and Fit it\n",
        "#\n",
        "\n",
        "autoencoder = Model(inputs, decoder(encoder(inputs)), name='autoencoder')\n",
        "if not retrain:\n",
        "    autoencoder = load_model('denoiser.hdf5')\n",
        "autoencoder.summary()\n",
        "\n",
        "optimizer=keras.optimizers.Nadam(lr=.001)\n",
        "\n",
        "autoencoder.compile(loss='mse', optimizer=optimizer)\n",
        "\n",
        "#\n",
        "# Train the autoencoder.  x_train functions as the labels for the noisy images\n",
        "# In the real world, often times all we see is the noisy data.  If we can ever access\n",
        "# the data before the process inserts the noise, we can build a model to infer the\n",
        "# \"Clean\" from the \"Noisy\".  This is relevant for telecommunications, for example.\n",
        "#\n",
        "autoencoder.fit(x_train_noisy,\n",
        "                x_train,\n",
        "                validation_data=(x_test_noisy, x_test),\n",
        "                callbacks=my_callbacks,\n",
        "                epochs=20,\n",
        "                batch_size=batch_size)\n",
        "\n",
        "# Predict the Autoencoder output from corrupted test images\n",
        "x_decoded = autoencoder.predict(x_test_noisy)"
      ],
      "execution_count": null,
      "outputs": [
        {
          "output_type": "stream",
          "name": "stdout",
          "text": [
            "Model: \"encoder\"\n",
            "_________________________________________________________________\n",
            " Layer (type)                Output Shape              Param #   \n",
            "=================================================================\n",
            " encoder_input (InputLayer)  [(None, 28, 28, 1)]       0         \n",
            "                                                                 \n",
            " conv2d (Conv2D)             (None, 14, 14, 40)        680       \n",
            "                                                                 \n",
            " conv2d_1 (Conv2D)           (None, 7, 7, 80)          51280     \n",
            "                                                                 \n",
            " flatten (Flatten)           (None, 3920)              0         \n",
            "                                                                 \n",
            " latent_vector (Dense)       (None, 20)                78420     \n",
            "                                                                 \n",
            "=================================================================\n",
            "Total params: 130,380\n",
            "Trainable params: 130,380\n",
            "Non-trainable params: 0\n",
            "_________________________________________________________________\n",
            "Model: \"decoder\"\n",
            "_________________________________________________________________\n",
            " Layer (type)                Output Shape              Param #   \n",
            "=================================================================\n",
            " decoder_input (InputLayer)  [(None, 20)]              0         \n",
            "                                                                 \n",
            " dense (Dense)               (None, 3920)              82320     \n",
            "                                                                 \n",
            " reshape (Reshape)           (None, 7, 7, 80)          0         \n",
            "                                                                 \n",
            " conv2d_transpose (Conv2DTra  (None, 14, 14, 80)       102480    \n",
            " nspose)                                                         \n",
            "                                                                 \n",
            " conv2d_transpose_1 (Conv2DT  (None, 28, 28, 40)       51240     \n",
            " ranspose)                                                       \n",
            "                                                                 \n",
            " conv2d_transpose_2 (Conv2DT  (None, 28, 28, 1)        641       \n",
            " ranspose)                                                       \n",
            "                                                                 \n",
            " decoder_output (Activation)  (None, 28, 28, 1)        0         \n",
            "                                                                 \n",
            "=================================================================\n",
            "Total params: 236,681\n",
            "Trainable params: 236,681\n",
            "Non-trainable params: 0\n",
            "_________________________________________________________________\n",
            "Model: \"autoencoder\"\n",
            "_________________________________________________________________\n",
            " Layer (type)                Output Shape              Param #   \n",
            "=================================================================\n",
            " encoder_input (InputLayer)  [(None, 28, 28, 1)]       0         \n",
            "                                                                 \n",
            " encoder (Functional)        (None, 20)                130380    \n",
            "                                                                 \n",
            " decoder (Functional)        (None, 28, 28, 1)         236681    \n",
            "                                                                 \n",
            "=================================================================\n",
            "Total params: 367,061\n",
            "Trainable params: 367,061\n",
            "Non-trainable params: 0\n",
            "_________________________________________________________________\n"
          ]
        },
        {
          "output_type": "stream",
          "name": "stderr",
          "text": [
            "/usr/local/lib/python3.7/dist-packages/keras/optimizer_v2/nadam.py:73: UserWarning: The `lr` argument is deprecated, use `learning_rate` instead.\n",
            "  super(Nadam, self).__init__(name, **kwargs)\n"
          ]
        },
        {
          "output_type": "stream",
          "name": "stdout",
          "text": [
            "Epoch 1/20\n",
            "469/469 [==============================] - 19s 12ms/step - loss: 0.0440 - val_loss: 0.0248 - lr: 0.0010\n",
            "Epoch 2/20\n",
            "469/469 [==============================] - 5s 10ms/step - loss: 0.0227 - val_loss: 0.0205 - lr: 0.0010\n",
            "Epoch 3/20\n",
            "469/469 [==============================] - 5s 10ms/step - loss: 0.0198 - val_loss: 0.0204 - lr: 0.0010\n",
            "Epoch 4/20\n",
            "469/469 [==============================] - 5s 10ms/step - loss: 0.0184 - val_loss: 0.0182 - lr: 0.0010\n",
            "Epoch 5/20\n",
            "469/469 [==============================] - 5s 10ms/step - loss: 0.0175 - val_loss: 0.0178 - lr: 0.0010\n",
            "Epoch 6/20\n",
            "469/469 [==============================] - 5s 11ms/step - loss: 0.0169 - val_loss: 0.0170 - lr: 0.0010\n",
            "Epoch 7/20\n",
            "469/469 [==============================] - 5s 11ms/step - loss: 0.0164 - val_loss: 0.0164 - lr: 0.0010\n",
            "Epoch 8/20\n",
            "469/469 [==============================] - 5s 10ms/step - loss: 0.0160 - val_loss: 0.0166 - lr: 0.0010\n",
            "Epoch 9/20\n",
            "469/469 [==============================] - 5s 10ms/step - loss: 0.0156 - val_loss: 0.0160 - lr: 0.0010\n",
            "Epoch 10/20\n",
            "469/469 [==============================] - 5s 10ms/step - loss: 0.0154 - val_loss: 0.0161 - lr: 0.0010\n",
            "Epoch 11/20\n",
            "469/469 [==============================] - 5s 10ms/step - loss: 0.0151 - val_loss: 0.0159 - lr: 0.0010\n",
            "Epoch 12/20\n",
            "469/469 [==============================] - 5s 11ms/step - loss: 0.0149 - val_loss: 0.0155 - lr: 0.0010\n",
            "Epoch 13/20\n",
            "469/469 [==============================] - 5s 10ms/step - loss: 0.0147 - val_loss: 0.0155 - lr: 0.0010\n",
            "Epoch 14/20\n",
            "469/469 [==============================] - 5s 10ms/step - loss: 0.0145 - val_loss: 0.0154 - lr: 0.0010\n",
            "Epoch 15/20\n",
            "469/469 [==============================] - 5s 10ms/step - loss: 0.0143 - val_loss: 0.0158 - lr: 0.0010\n",
            "Epoch 16/20\n",
            "468/469 [============================>.] - ETA: 0s - loss: 0.0142\n",
            "Epoch 16: ReduceLROnPlateau reducing learning rate to 0.0003000000142492354.\n",
            "469/469 [==============================] - 5s 10ms/step - loss: 0.0142 - val_loss: 0.0155 - lr: 0.0010\n",
            "Epoch 17/20\n",
            "469/469 [==============================] - 5s 10ms/step - loss: 0.0136 - val_loss: 0.0151 - lr: 3.0000e-04\n",
            "Epoch 18/20\n",
            "469/469 [==============================] - 5s 10ms/step - loss: 0.0135 - val_loss: 0.0151 - lr: 3.0000e-04\n",
            "Epoch 19/20\n",
            "465/469 [============================>.] - ETA: 0s - loss: 0.0134\n",
            "Epoch 19: ReduceLROnPlateau reducing learning rate to 9.000000427477062e-05.\n",
            "469/469 [==============================] - 5s 10ms/step - loss: 0.0134 - val_loss: 0.0151 - lr: 3.0000e-04\n",
            "Epoch 20/20\n",
            "469/469 [==============================] - 5s 11ms/step - loss: 0.0132 - val_loss: 0.0151 - lr: 9.0000e-05\n"
          ]
        }
      ]
    },
    {
      "cell_type": "code",
      "metadata": {
        "id": "DXwm-7q0vhYp"
      },
      "source": [
        "# Display the 1st 8 corrupted and denoised images\n",
        "#rows, cols = 10, 30\n",
        "rows, cols = 1, 8\n",
        "num = rows * cols\n",
        "\n",
        "# Build the image stacks for our plots\n",
        "\n",
        "imgs = np.concatenate([x_test[:num], x_test_noisy[:num], x_decoded[:num]])\n",
        "imgs = imgs.reshape((rows * 3, cols, image_size, image_size))\n",
        "imgs = np.vstack(np.split(imgs, rows, axis=1))\n",
        "imgs = imgs.reshape((rows * 3, -1, image_size, image_size))\n",
        "imgs = np.vstack([np.hstack(i) for i in imgs])\n",
        "imgs = (imgs * 255).astype(np.uint8)\n"
      ],
      "execution_count": null,
      "outputs": []
    },
    {
      "cell_type": "code",
      "metadata": {
        "id": "Yx-4g-YA_s3a",
        "colab": {
          "base_uri": "https://localhost:8080/",
          "height": 713
        },
        "outputId": "29a92653-e86f-4208-c802-7b63d4625631"
      },
      "source": [
        "plt.figure()\n",
        "plt.axis('off')\n",
        "plt.figure(figsize=(20,20))\n",
        "plt.title('Original images: top rows, '\n",
        "          'Corrupted Input: middle rows, '\n",
        "          'Denoised Input:  third rows')\n",
        "plt.imshow(imgs, interpolation='none', cmap='gray')\n",
        "Image.fromarray(imgs).save('fashion_mnist_corrupted_and_denoised.png')\n",
        "plt.show()"
      ],
      "execution_count": null,
      "outputs": [
        {
          "output_type": "display_data",
          "data": {
            "text/plain": [
              "<Figure size 432x288 with 1 Axes>"
            ],
            "image/png": "[encoded data removed]"
          },
          "metadata": {
            "needs_background": "light"
          }
        },
        {
          "output_type": "display_data",
          "data": {
            "text/plain": [
              "<Figure size 1440x1440 with 1 Axes>"
            ],
            "image/png": "[encoded data removed]"
          },
          "metadata": {
            "needs_background": "light"
          }
        }
      ]
    },
    {
      "cell_type": "code",
      "metadata": {
        "id": "y6iKFsYSuREq",
        "colab": {
          "base_uri": "https://localhost:8080/"
        },
        "outputId": "89e0b511-d715-49a7-da2b-39ee11fdf8f7"
      },
      "source": [
        "%ls /content\n",
        "%cp /content/*.png /content/drive/'My Drive'"
      ],
      "execution_count": null,
      "outputs": [
        {
          "output_type": "stream",
          "name": "stdout",
          "text": [
            "denoiser.hdf5  fashion_mnist_corrupted_and_denoised.png  \u001b[0m\u001b[01;34msample_data\u001b[0m/\n",
            "cp: cannot create regular file '/content/drive/My Drive': No such file or directory\n"
          ]
        }
      ]
    },
    {
      "cell_type": "code",
      "metadata": {
        "id": "afO7nGJG-StG"
      },
      "source": [],
      "execution_count": null,
      "outputs": []
    }
  ]
}
